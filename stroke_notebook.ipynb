{
 "cells": [
  {
   "cell_type": "code",
   "execution_count": 38,
   "id": "8be336a2",
   "metadata": {},
   "outputs": [],
   "source": [
    "import pandas as pd\n",
    "import matplotlib.pyplot as plt\n",
    "from keras.metrics import Precision, Recall\n",
    "from sklearn.model_selection import train_test_split\n",
    "import tensorflow as tf\n",
    "from keras.models import Sequential\n",
    "from keras.layers import Dense"
   ]
  },
  {
   "cell_type": "code",
   "execution_count": 39,
   "id": "759e00a9",
   "metadata": {},
   "outputs": [
    {
     "data": {
      "text/html": [
       "<div>\n",
       "<style scoped>\n",
       "    .dataframe tbody tr th:only-of-type {\n",
       "        vertical-align: middle;\n",
       "    }\n",
       "\n",
       "    .dataframe tbody tr th {\n",
       "        vertical-align: top;\n",
       "    }\n",
       "\n",
       "    .dataframe thead th {\n",
       "        text-align: right;\n",
       "    }\n",
       "</style>\n",
       "<table border=\"1\" class=\"dataframe\">\n",
       "  <thead>\n",
       "    <tr style=\"text-align: right;\">\n",
       "      <th></th>\n",
       "      <th>gender</th>\n",
       "      <th>age</th>\n",
       "      <th>hypertension</th>\n",
       "      <th>heart_disease</th>\n",
       "      <th>ever_married</th>\n",
       "      <th>work_type</th>\n",
       "      <th>Residence_type</th>\n",
       "      <th>avg_glucose_level</th>\n",
       "      <th>bmi</th>\n",
       "      <th>smoking_status</th>\n",
       "      <th>stroke</th>\n",
       "    </tr>\n",
       "  </thead>\n",
       "  <tbody>\n",
       "    <tr>\n",
       "      <th>0</th>\n",
       "      <td>0.5</td>\n",
       "      <td>0.816895</td>\n",
       "      <td>0.0</td>\n",
       "      <td>1.0</td>\n",
       "      <td>1.0</td>\n",
       "      <td>0.500000</td>\n",
       "      <td>1.0</td>\n",
       "      <td>0.801265</td>\n",
       "      <td>0.301260</td>\n",
       "      <td>0.333333</td>\n",
       "      <td>1</td>\n",
       "    </tr>\n",
       "    <tr>\n",
       "      <th>1</th>\n",
       "      <td>0.0</td>\n",
       "      <td>0.743652</td>\n",
       "      <td>0.0</td>\n",
       "      <td>0.0</td>\n",
       "      <td>1.0</td>\n",
       "      <td>0.750000</td>\n",
       "      <td>0.0</td>\n",
       "      <td>0.679023</td>\n",
       "      <td>0.212981</td>\n",
       "      <td>0.666667</td>\n",
       "      <td>1</td>\n",
       "    </tr>\n",
       "    <tr>\n",
       "      <th>2</th>\n",
       "      <td>0.5</td>\n",
       "      <td>0.975586</td>\n",
       "      <td>0.0</td>\n",
       "      <td>1.0</td>\n",
       "      <td>1.0</td>\n",
       "      <td>0.500000</td>\n",
       "      <td>0.0</td>\n",
       "      <td>0.234512</td>\n",
       "      <td>0.254296</td>\n",
       "      <td>0.666667</td>\n",
       "      <td>1</td>\n",
       "    </tr>\n",
       "    <tr>\n",
       "      <th>3</th>\n",
       "      <td>0.0</td>\n",
       "      <td>0.597168</td>\n",
       "      <td>0.0</td>\n",
       "      <td>0.0</td>\n",
       "      <td>1.0</td>\n",
       "      <td>0.500000</td>\n",
       "      <td>1.0</td>\n",
       "      <td>0.536008</td>\n",
       "      <td>0.276060</td>\n",
       "      <td>1.000000</td>\n",
       "      <td>1</td>\n",
       "    </tr>\n",
       "    <tr>\n",
       "      <th>4</th>\n",
       "      <td>0.0</td>\n",
       "      <td>0.963379</td>\n",
       "      <td>1.0</td>\n",
       "      <td>0.0</td>\n",
       "      <td>1.0</td>\n",
       "      <td>0.750000</td>\n",
       "      <td>0.0</td>\n",
       "      <td>0.549349</td>\n",
       "      <td>0.156930</td>\n",
       "      <td>0.666667</td>\n",
       "      <td>1</td>\n",
       "    </tr>\n",
       "    <tr>\n",
       "      <th>...</th>\n",
       "      <td>...</td>\n",
       "      <td>...</td>\n",
       "      <td>...</td>\n",
       "      <td>...</td>\n",
       "      <td>...</td>\n",
       "      <td>...</td>\n",
       "      <td>...</td>\n",
       "      <td>...</td>\n",
       "      <td>...</td>\n",
       "      <td>...</td>\n",
       "      <td>...</td>\n",
       "    </tr>\n",
       "    <tr>\n",
       "      <th>9717</th>\n",
       "      <td>0.0</td>\n",
       "      <td>0.899548</td>\n",
       "      <td>1.0</td>\n",
       "      <td>0.0</td>\n",
       "      <td>1.0</td>\n",
       "      <td>0.532123</td>\n",
       "      <td>0.0</td>\n",
       "      <td>0.613801</td>\n",
       "      <td>0.281716</td>\n",
       "      <td>0.666667</td>\n",
       "      <td>1</td>\n",
       "    </tr>\n",
       "    <tr>\n",
       "      <th>9718</th>\n",
       "      <td>0.0</td>\n",
       "      <td>0.866094</td>\n",
       "      <td>0.0</td>\n",
       "      <td>0.0</td>\n",
       "      <td>1.0</td>\n",
       "      <td>0.000000</td>\n",
       "      <td>1.0</td>\n",
       "      <td>0.942631</td>\n",
       "      <td>0.321731</td>\n",
       "      <td>0.666667</td>\n",
       "      <td>1</td>\n",
       "    </tr>\n",
       "    <tr>\n",
       "      <th>9719</th>\n",
       "      <td>0.5</td>\n",
       "      <td>0.871179</td>\n",
       "      <td>0.0</td>\n",
       "      <td>0.0</td>\n",
       "      <td>1.0</td>\n",
       "      <td>0.500000</td>\n",
       "      <td>0.0</td>\n",
       "      <td>0.859567</td>\n",
       "      <td>0.332491</td>\n",
       "      <td>0.762415</td>\n",
       "      <td>1</td>\n",
       "    </tr>\n",
       "    <tr>\n",
       "      <th>9720</th>\n",
       "      <td>0.0</td>\n",
       "      <td>0.916245</td>\n",
       "      <td>0.0</td>\n",
       "      <td>0.0</td>\n",
       "      <td>1.0</td>\n",
       "      <td>0.750000</td>\n",
       "      <td>0.0</td>\n",
       "      <td>0.105444</td>\n",
       "      <td>0.217425</td>\n",
       "      <td>0.333333</td>\n",
       "      <td>1</td>\n",
       "    </tr>\n",
       "    <tr>\n",
       "      <th>9721</th>\n",
       "      <td>0.0</td>\n",
       "      <td>0.720902</td>\n",
       "      <td>0.0</td>\n",
       "      <td>0.0</td>\n",
       "      <td>1.0</td>\n",
       "      <td>0.750000</td>\n",
       "      <td>0.0</td>\n",
       "      <td>0.666253</td>\n",
       "      <td>0.248074</td>\n",
       "      <td>0.755415</td>\n",
       "      <td>1</td>\n",
       "    </tr>\n",
       "  </tbody>\n",
       "</table>\n",
       "<p>9722 rows × 11 columns</p>\n",
       "</div>"
      ],
      "text/plain": [
       "      gender       age  hypertension  heart_disease  ever_married  work_type  \\\n",
       "0        0.5  0.816895           0.0            1.0           1.0   0.500000   \n",
       "1        0.0  0.743652           0.0            0.0           1.0   0.750000   \n",
       "2        0.5  0.975586           0.0            1.0           1.0   0.500000   \n",
       "3        0.0  0.597168           0.0            0.0           1.0   0.500000   \n",
       "4        0.0  0.963379           1.0            0.0           1.0   0.750000   \n",
       "...      ...       ...           ...            ...           ...        ...   \n",
       "9717     0.0  0.899548           1.0            0.0           1.0   0.532123   \n",
       "9718     0.0  0.866094           0.0            0.0           1.0   0.000000   \n",
       "9719     0.5  0.871179           0.0            0.0           1.0   0.500000   \n",
       "9720     0.0  0.916245           0.0            0.0           1.0   0.750000   \n",
       "9721     0.0  0.720902           0.0            0.0           1.0   0.750000   \n",
       "\n",
       "      Residence_type  avg_glucose_level       bmi  smoking_status  stroke  \n",
       "0                1.0           0.801265  0.301260        0.333333       1  \n",
       "1                0.0           0.679023  0.212981        0.666667       1  \n",
       "2                0.0           0.234512  0.254296        0.666667       1  \n",
       "3                1.0           0.536008  0.276060        1.000000       1  \n",
       "4                0.0           0.549349  0.156930        0.666667       1  \n",
       "...              ...                ...       ...             ...     ...  \n",
       "9717             0.0           0.613801  0.281716        0.666667       1  \n",
       "9718             1.0           0.942631  0.321731        0.666667       1  \n",
       "9719             0.0           0.859567  0.332491        0.762415       1  \n",
       "9720             0.0           0.105444  0.217425        0.333333       1  \n",
       "9721             0.0           0.666253  0.248074        0.755415       1  \n",
       "\n",
       "[9722 rows x 11 columns]"
      ]
     },
     "execution_count": 39,
     "metadata": {},
     "output_type": "execute_result"
    }
   ],
   "source": [
    "df=pd.read_csv('stroke.csv')\n",
    "df"
   ]
  },
  {
   "cell_type": "code",
   "execution_count": 40,
   "id": "1819ffed",
   "metadata": {},
   "outputs": [
    {
     "name": "stdout",
     "output_type": "stream",
     "text": [
      "<class 'pandas.core.frame.DataFrame'>\n",
      "RangeIndex: 9722 entries, 0 to 9721\n",
      "Data columns (total 11 columns):\n",
      " #   Column             Non-Null Count  Dtype  \n",
      "---  ------             --------------  -----  \n",
      " 0   gender             9722 non-null   float64\n",
      " 1   age                9722 non-null   float64\n",
      " 2   hypertension       9722 non-null   float64\n",
      " 3   heart_disease      9722 non-null   float64\n",
      " 4   ever_married       9722 non-null   float64\n",
      " 5   work_type          9722 non-null   float64\n",
      " 6   Residence_type     9722 non-null   float64\n",
      " 7   avg_glucose_level  9722 non-null   float64\n",
      " 8   bmi                9722 non-null   float64\n",
      " 9   smoking_status     9722 non-null   float64\n",
      " 10  stroke             9722 non-null   int64  \n",
      "dtypes: float64(10), int64(1)\n",
      "memory usage: 835.6 KB\n"
     ]
    }
   ],
   "source": [
    "df.info()"
   ]
  },
  {
   "cell_type": "code",
   "execution_count": 41,
   "id": "2b81235e",
   "metadata": {},
   "outputs": [
    {
     "data": {
      "text/html": [
       "<div>\n",
       "<style scoped>\n",
       "    .dataframe tbody tr th:only-of-type {\n",
       "        vertical-align: middle;\n",
       "    }\n",
       "\n",
       "    .dataframe tbody tr th {\n",
       "        vertical-align: top;\n",
       "    }\n",
       "\n",
       "    .dataframe thead th {\n",
       "        text-align: right;\n",
       "    }\n",
       "</style>\n",
       "<table border=\"1\" class=\"dataframe\">\n",
       "  <thead>\n",
       "    <tr style=\"text-align: right;\">\n",
       "      <th></th>\n",
       "      <th>gender</th>\n",
       "      <th>age</th>\n",
       "      <th>hypertension</th>\n",
       "      <th>heart_disease</th>\n",
       "      <th>ever_married</th>\n",
       "      <th>work_type</th>\n",
       "      <th>Residence_type</th>\n",
       "      <th>avg_glucose_level</th>\n",
       "      <th>bmi</th>\n",
       "      <th>smoking_status</th>\n",
       "      <th>stroke</th>\n",
       "    </tr>\n",
       "  </thead>\n",
       "  <tbody>\n",
       "    <tr>\n",
       "      <th>count</th>\n",
       "      <td>9722.000000</td>\n",
       "      <td>9722.000000</td>\n",
       "      <td>9722.000000</td>\n",
       "      <td>9722.000000</td>\n",
       "      <td>9722.000000</td>\n",
       "      <td>9722.000000</td>\n",
       "      <td>9722.000000</td>\n",
       "      <td>9722.000000</td>\n",
       "      <td>9722.000000</td>\n",
       "      <td>9722.000000</td>\n",
       "      <td>9722.000000</td>\n",
       "    </tr>\n",
       "    <tr>\n",
       "      <th>mean</th>\n",
       "      <td>0.213367</td>\n",
       "      <td>0.673399</td>\n",
       "      <td>0.173676</td>\n",
       "      <td>0.113321</td>\n",
       "      <td>0.769813</td>\n",
       "      <td>0.529794</td>\n",
       "      <td>0.523473</td>\n",
       "      <td>0.292612</td>\n",
       "      <td>0.219453</td>\n",
       "      <td>0.478090</td>\n",
       "      <td>0.500000</td>\n",
       "    </tr>\n",
       "    <tr>\n",
       "      <th>std</th>\n",
       "      <td>0.242441</td>\n",
       "      <td>0.268022</td>\n",
       "      <td>0.378565</td>\n",
       "      <td>0.315993</td>\n",
       "      <td>0.419034</td>\n",
       "      <td>0.234394</td>\n",
       "      <td>0.498976</td>\n",
       "      <td>0.247178</td>\n",
       "      <td>0.074600</td>\n",
       "      <td>0.330446</td>\n",
       "      <td>0.500026</td>\n",
       "    </tr>\n",
       "    <tr>\n",
       "      <th>min</th>\n",
       "      <td>0.000000</td>\n",
       "      <td>0.000000</td>\n",
       "      <td>0.000000</td>\n",
       "      <td>0.000000</td>\n",
       "      <td>0.000000</td>\n",
       "      <td>0.000000</td>\n",
       "      <td>0.000000</td>\n",
       "      <td>0.000000</td>\n",
       "      <td>0.000000</td>\n",
       "      <td>0.000000</td>\n",
       "      <td>0.000000</td>\n",
       "    </tr>\n",
       "    <tr>\n",
       "      <th>25%</th>\n",
       "      <td>0.000000</td>\n",
       "      <td>0.511719</td>\n",
       "      <td>0.000000</td>\n",
       "      <td>0.000000</td>\n",
       "      <td>1.000000</td>\n",
       "      <td>0.500000</td>\n",
       "      <td>0.000000</td>\n",
       "      <td>0.112887</td>\n",
       "      <td>0.175258</td>\n",
       "      <td>0.251364</td>\n",
       "      <td>0.000000</td>\n",
       "    </tr>\n",
       "    <tr>\n",
       "      <th>50%</th>\n",
       "      <td>0.000000</td>\n",
       "      <td>0.743652</td>\n",
       "      <td>0.000000</td>\n",
       "      <td>0.000000</td>\n",
       "      <td>1.000000</td>\n",
       "      <td>0.500000</td>\n",
       "      <td>1.000000</td>\n",
       "      <td>0.192411</td>\n",
       "      <td>0.212981</td>\n",
       "      <td>0.591332</td>\n",
       "      <td>0.500000</td>\n",
       "    </tr>\n",
       "    <tr>\n",
       "      <th>75%</th>\n",
       "      <td>0.500000</td>\n",
       "      <td>0.899620</td>\n",
       "      <td>0.000000</td>\n",
       "      <td>0.000000</td>\n",
       "      <td>1.000000</td>\n",
       "      <td>0.676584</td>\n",
       "      <td>1.000000</td>\n",
       "      <td>0.416104</td>\n",
       "      <td>0.254539</td>\n",
       "      <td>0.666667</td>\n",
       "      <td>1.000000</td>\n",
       "    </tr>\n",
       "    <tr>\n",
       "      <th>max</th>\n",
       "      <td>1.000000</td>\n",
       "      <td>1.000000</td>\n",
       "      <td>1.000000</td>\n",
       "      <td>1.000000</td>\n",
       "      <td>1.000000</td>\n",
       "      <td>1.000000</td>\n",
       "      <td>1.000000</td>\n",
       "      <td>1.000000</td>\n",
       "      <td>1.000000</td>\n",
       "      <td>1.000000</td>\n",
       "      <td>1.000000</td>\n",
       "    </tr>\n",
       "  </tbody>\n",
       "</table>\n",
       "</div>"
      ],
      "text/plain": [
       "            gender          age  hypertension  heart_disease  ever_married  \\\n",
       "count  9722.000000  9722.000000   9722.000000    9722.000000   9722.000000   \n",
       "mean      0.213367     0.673399      0.173676       0.113321      0.769813   \n",
       "std       0.242441     0.268022      0.378565       0.315993      0.419034   \n",
       "min       0.000000     0.000000      0.000000       0.000000      0.000000   \n",
       "25%       0.000000     0.511719      0.000000       0.000000      1.000000   \n",
       "50%       0.000000     0.743652      0.000000       0.000000      1.000000   \n",
       "75%       0.500000     0.899620      0.000000       0.000000      1.000000   \n",
       "max       1.000000     1.000000      1.000000       1.000000      1.000000   \n",
       "\n",
       "         work_type  Residence_type  avg_glucose_level          bmi  \\\n",
       "count  9722.000000     9722.000000        9722.000000  9722.000000   \n",
       "mean      0.529794        0.523473           0.292612     0.219453   \n",
       "std       0.234394        0.498976           0.247178     0.074600   \n",
       "min       0.000000        0.000000           0.000000     0.000000   \n",
       "25%       0.500000        0.000000           0.112887     0.175258   \n",
       "50%       0.500000        1.000000           0.192411     0.212981   \n",
       "75%       0.676584        1.000000           0.416104     0.254539   \n",
       "max       1.000000        1.000000           1.000000     1.000000   \n",
       "\n",
       "       smoking_status       stroke  \n",
       "count     9722.000000  9722.000000  \n",
       "mean         0.478090     0.500000  \n",
       "std          0.330446     0.500026  \n",
       "min          0.000000     0.000000  \n",
       "25%          0.251364     0.000000  \n",
       "50%          0.591332     0.500000  \n",
       "75%          0.666667     1.000000  \n",
       "max          1.000000     1.000000  "
      ]
     },
     "execution_count": 41,
     "metadata": {},
     "output_type": "execute_result"
    }
   ],
   "source": [
    "df.describe()"
   ]
  },
  {
   "cell_type": "code",
   "execution_count": 42,
   "id": "c54b8d9b",
   "metadata": {},
   "outputs": [
    {
     "data": {
      "text/plain": [
       "stroke\n",
       "1    4861\n",
       "0    4861\n",
       "Name: count, dtype: int64"
      ]
     },
     "execution_count": 42,
     "metadata": {},
     "output_type": "execute_result"
    }
   ],
   "source": [
    "df['stroke'].value_counts()"
   ]
  },
  {
   "cell_type": "code",
   "execution_count": 43,
   "id": "72e3b439",
   "metadata": {},
   "outputs": [
    {
     "name": "stdout",
     "output_type": "stream",
     "text": [
      "(9722, 10) (9722,)\n"
     ]
    }
   ],
   "source": [
    "X=df.drop('stroke',axis=1)\n",
    "y=df['stroke']\n",
    "print(X.shape,y.shape)\n"
   ]
  },
  {
   "cell_type": "code",
   "execution_count": 44,
   "id": "5b220fae",
   "metadata": {},
   "outputs": [
    {
     "data": {
      "text/plain": [
       "(7777, 10)"
      ]
     },
     "execution_count": 44,
     "metadata": {},
     "output_type": "execute_result"
    }
   ],
   "source": [
    "X_train, X_test, y_train, y_test= train_test_split(X,y,test_size=0.2,random_state=2)\n",
    "X_train.shape"
   ]
  },
  {
   "cell_type": "code",
   "execution_count": 45,
   "id": "6db7e575",
   "metadata": {},
   "outputs": [
    {
     "data": {
      "text/plain": [
       "(7777,)"
      ]
     },
     "execution_count": 45,
     "metadata": {},
     "output_type": "execute_result"
    }
   ],
   "source": [
    "y_train.shape"
   ]
  },
  {
   "cell_type": "markdown",
   "id": "866aafb9",
   "metadata": {},
   "source": [
    "# SIGMOID"
   ]
  },
  {
   "cell_type": "code",
   "execution_count": 46,
   "id": "356928b4",
   "metadata": {},
   "outputs": [],
   "source": [
    "model = Sequential()\n",
    "model.add(Dense(30,  activation=\"relu\", input_shape = X_train.shape[1:]))\n",
    "model.add(Dense(20, activation=\"relu\"))\n",
    "model.add(Dense(15, activation=\"relu\"))\n",
    "model.add(Dense(5, activation=\"relu\"))\n",
    "model.add(Dense(1, activation=\"sigmoid\"))"
   ]
  },
  {
   "cell_type": "code",
   "execution_count": 47,
   "id": "7bea5f78",
   "metadata": {},
   "outputs": [],
   "source": [
    "model.compile(\n",
    "    optimizer='adam',\n",
    "    loss='binary_crossentropy',\n",
    "    metrics=['accuracy', Precision(), Recall()]\n",
    ")"
   ]
  },
  {
   "cell_type": "code",
   "execution_count": 48,
   "id": "fb2d17f1",
   "metadata": {},
   "outputs": [
    {
     "name": "stdout",
     "output_type": "stream",
     "text": [
      "Epoch 1/10\n",
      "195/195 [==============================] - 2s 4ms/step - loss: 0.6370 - accuracy: 0.6809 - precision_3: 0.6425 - recall_3: 0.8032 - val_loss: 0.5518 - val_accuracy: 0.7622 - val_precision_3: 0.7316 - val_recall_3: 0.8534\n",
      "Epoch 2/10\n",
      "195/195 [==============================] - 0s 2ms/step - loss: 0.4794 - accuracy: 0.7869 - precision_3: 0.7554 - recall_3: 0.8431 - val_loss: 0.4795 - val_accuracy: 0.7815 - val_precision_3: 0.7409 - val_recall_3: 0.8882\n",
      "Epoch 3/10\n",
      "195/195 [==============================] - 0s 2ms/step - loss: 0.4513 - accuracy: 0.7881 - precision_3: 0.7537 - recall_3: 0.8505 - val_loss: 0.4720 - val_accuracy: 0.7956 - val_precision_3: 0.7937 - val_recall_3: 0.8174\n",
      "Epoch 4/10\n",
      "195/195 [==============================] - 0s 2ms/step - loss: 0.4453 - accuracy: 0.7970 - precision_3: 0.7623 - recall_3: 0.8580 - val_loss: 0.4636 - val_accuracy: 0.7931 - val_precision_3: 0.7577 - val_recall_3: 0.8820\n",
      "Epoch 5/10\n",
      "195/195 [==============================] - 0s 2ms/step - loss: 0.4366 - accuracy: 0.8002 - precision_3: 0.7646 - recall_3: 0.8625 - val_loss: 0.4610 - val_accuracy: 0.7950 - val_precision_3: 0.7852 - val_recall_3: 0.8311\n",
      "Epoch 6/10\n",
      "195/195 [==============================] - 0s 2ms/step - loss: 0.4319 - accuracy: 0.8016 - precision_3: 0.7663 - recall_3: 0.8632 - val_loss: 0.4539 - val_accuracy: 0.7892 - val_precision_3: 0.7472 - val_recall_3: 0.8957\n",
      "Epoch 7/10\n",
      "195/195 [==============================] - 0s 2ms/step - loss: 0.4287 - accuracy: 0.7995 - precision_3: 0.7643 - recall_3: 0.8612 - val_loss: 0.4500 - val_accuracy: 0.7969 - val_precision_3: 0.7690 - val_recall_3: 0.8683\n",
      "Epoch 8/10\n",
      "195/195 [==============================] - 0s 2ms/step - loss: 0.4237 - accuracy: 0.8053 - precision_3: 0.7698 - recall_3: 0.8664 - val_loss: 0.4437 - val_accuracy: 0.7956 - val_precision_3: 0.7751 - val_recall_3: 0.8522\n",
      "Epoch 9/10\n",
      "195/195 [==============================] - 0s 2ms/step - loss: 0.4185 - accuracy: 0.8092 - precision_3: 0.7736 - recall_3: 0.8696 - val_loss: 0.4538 - val_accuracy: 0.7886 - val_precision_3: 0.7924 - val_recall_3: 0.8012\n",
      "Epoch 10/10\n",
      "195/195 [==============================] - 0s 2ms/step - loss: 0.4151 - accuracy: 0.8095 - precision_3: 0.7750 - recall_3: 0.8677 - val_loss: 0.4361 - val_accuracy: 0.7969 - val_precision_3: 0.7807 - val_recall_3: 0.8447\n"
     ]
    }
   ],
   "source": [
    "history = model.fit(\n",
    "    X_train, y_train,\n",
    "    epochs=10,\n",
    "    batch_size=32,\n",
    "    validation_split=0.2\n",
    ")"
   ]
  },
  {
   "cell_type": "code",
   "execution_count": 51,
   "id": "ca7d0480",
   "metadata": {},
   "outputs": [
    {
     "name": "stdout",
     "output_type": "stream",
     "text": [
      "61/61 [==============================] - 0s 3ms/step - loss: 0.4213 - accuracy: 0.7985 - precision_3: 0.7788 - recall_3: 0.8333\n",
      "Test Accuracy: 0.80, Precision: 0.78, Recall: 0.83\n"
     ]
    }
   ],
   "source": [
    "test_loss, test_acc, test_precision, test_recall = model.evaluate(X_test, y_test)\n",
    "print(f\"Test Accuracy: {test_acc:.2f}, Precision: {test_precision:.2f}, Recall: {test_recall:.2f}\")"
   ]
  },
  {
   "cell_type": "code",
   "execution_count": 52,
   "id": "8e32ea76",
   "metadata": {},
   "outputs": [
    {
     "data": {
      "image/png": "[encoded data removed]",
      "text/plain": [
       "<Figure size 1200x400 with 2 Axes>"
      ]
     },
     "metadata": {},
     "output_type": "display_data"
    }
   ],
   "source": [
    "plt.figure(figsize=(12, 4))\n",
    "plt.subplot(1, 2, 1)\n",
    "plt.plot(history.history['loss'], label='Train Loss')\n",
    "plt.plot(history.history['val_loss'], label='Validation Loss')\n",
    "plt.legend()\n",
    "\n",
    "plt.subplot(1, 2, 2)\n",
    "plt.plot(history.history['accuracy'], label='Train Accuracy')\n",
    "plt.plot(history.history['val_accuracy'], label='Validation Accuracy')\n",
    "plt.legend()\n",
    "plt.show()"
   ]
  },
  {
   "cell_type": "markdown",
   "id": "c31b390c",
   "metadata": {},
   "source": [
    "# SOFTMAX"
   ]
  },
  {
   "cell_type": "code",
   "execution_count": null,
   "id": "7780175f",
   "metadata": {},
   "outputs": [],
   "source": [
    "model = Sequential()\n",
    "model.add(Dense(30,  activation=\"relu\", input_shape = X_train.shape[1:]))\n",
    "model.add(Dense(20, activation=\"relu\"))\n",
    "model.add(Dense(15, activation=\"relu\"))\n",
    "model.add(Dense(5, activation=\"relu\"))\n",
    "model.add(Dense(1, activation=\"softmax\"))"
   ]
  },
  {
   "cell_type": "code",
   "execution_count": 59,
   "id": "af2662fd",
   "metadata": {},
   "outputs": [],
   "source": [
    "model.compile(\n",
    "    optimizer='adam',\n",
    "    loss='binary_crossentropy',\n",
    "    metrics=['accuracy', Precision(), Recall()]\n",
    ")"
   ]
  },
  {
   "cell_type": "code",
   "execution_count": 60,
   "id": "3ea18999",
   "metadata": {},
   "outputs": [
    {
     "name": "stdout",
     "output_type": "stream",
     "text": [
      "Epoch 1/10\n",
      "195/195 [==============================] - 1s 3ms/step - loss: 0.5994 - accuracy: 0.4957 - precision_5: 0.4957 - recall_5: 1.0000 - val_loss: 0.5325 - val_accuracy: 0.5174 - val_precision_5: 0.5174 - val_recall_5: 1.0000\n",
      "Epoch 2/10\n",
      "195/195 [==============================] - 0s 2ms/step - loss: 0.4811 - accuracy: 0.4957 - precision_5: 0.4957 - recall_5: 1.0000 - val_loss: 0.4817 - val_accuracy: 0.5174 - val_precision_5: 0.5174 - val_recall_5: 1.0000\n",
      "Epoch 3/10\n",
      "195/195 [==============================] - 0s 2ms/step - loss: 0.4478 - accuracy: 0.4957 - precision_5: 0.4957 - recall_5: 1.0000 - val_loss: 0.4701 - val_accuracy: 0.5174 - val_precision_5: 0.5174 - val_recall_5: 1.0000\n",
      "Epoch 4/10\n",
      "195/195 [==============================] - 0s 2ms/step - loss: 0.4399 - accuracy: 0.4957 - precision_5: 0.4957 - recall_5: 1.0000 - val_loss: 0.4597 - val_accuracy: 0.5174 - val_precision_5: 0.5174 - val_recall_5: 1.0000\n",
      "Epoch 5/10\n",
      "195/195 [==============================] - 0s 3ms/step - loss: 0.4334 - accuracy: 0.4957 - precision_5: 0.4957 - recall_5: 1.0000 - val_loss: 0.4543 - val_accuracy: 0.5174 - val_precision_5: 0.5174 - val_recall_5: 1.0000\n",
      "Epoch 6/10\n",
      "195/195 [==============================] - 0s 2ms/step - loss: 0.4300 - accuracy: 0.4957 - precision_5: 0.4957 - recall_5: 1.0000 - val_loss: 0.4490 - val_accuracy: 0.5174 - val_precision_5: 0.5174 - val_recall_5: 1.0000\n",
      "Epoch 7/10\n",
      "195/195 [==============================] - 0s 2ms/step - loss: 0.4242 - accuracy: 0.4957 - precision_5: 0.4957 - recall_5: 1.0000 - val_loss: 0.4484 - val_accuracy: 0.5174 - val_precision_5: 0.5174 - val_recall_5: 1.0000\n",
      "Epoch 8/10\n",
      "195/195 [==============================] - 0s 2ms/step - loss: 0.4228 - accuracy: 0.4957 - precision_5: 0.4957 - recall_5: 1.0000 - val_loss: 0.4417 - val_accuracy: 0.5174 - val_precision_5: 0.5174 - val_recall_5: 1.0000\n",
      "Epoch 9/10\n",
      "195/195 [==============================] - 0s 2ms/step - loss: 0.4182 - accuracy: 0.4957 - precision_5: 0.4957 - recall_5: 1.0000 - val_loss: 0.4388 - val_accuracy: 0.5174 - val_precision_5: 0.5174 - val_recall_5: 1.0000\n",
      "Epoch 10/10\n",
      "195/195 [==============================] - 0s 2ms/step - loss: 0.4131 - accuracy: 0.4957 - precision_5: 0.4957 - recall_5: 1.0000 - val_loss: 0.4333 - val_accuracy: 0.5174 - val_precision_5: 0.5174 - val_recall_5: 1.0000\n"
     ]
    }
   ],
   "source": [
    "history = model.fit(\n",
    "    X_train, y_train,\n",
    "    epochs=10,\n",
    "    batch_size=32,\n",
    "    validation_split=0.2\n",
    ")"
   ]
  },
  {
   "cell_type": "code",
   "execution_count": 61,
   "id": "9afa4982",
   "metadata": {},
   "outputs": [
    {
     "name": "stdout",
     "output_type": "stream",
     "text": [
      "61/61 [==============================] - 0s 2ms/step - loss: 0.4220 - accuracy: 0.4997 - precision_5: 0.4997 - recall_5: 1.0000\n",
      "Test Accuracy: 0.50, Precision: 0.50, Recall: 1.00\n"
     ]
    }
   ],
   "source": [
    "test_loss, test_acc, test_precision, test_recall = model.evaluate(X_test, y_test)\n",
    "print(f\"Test Accuracy: {test_acc:.2f}, Precision: {test_precision:.2f}, Recall: {test_recall:.2f}\")"
   ]
  },
  {
   "cell_type": "code",
   "execution_count": 62,
   "id": "fa8fb934",
   "metadata": {},
   "outputs": [
    {
     "data": {
      "image/png": "[encoded data removed]",
      "text/plain": [
       "<Figure size 1200x400 with 2 Axes>"
      ]
     },
     "metadata": {},
     "output_type": "display_data"
    }
   ],
   "source": [
    "plt.figure(figsize=(12, 4))\n",
    "plt.subplot(1, 2, 1)\n",
    "plt.plot(history.history['loss'], label='Train Loss')\n",
    "plt.plot(history.history['val_loss'], label='Validation Loss')\n",
    "plt.legend()\n",
    "\n",
    "plt.subplot(1, 2, 2)\n",
    "plt.plot(history.history['accuracy'], label='Train Accuracy')\n",
    "plt.plot(history.history['val_accuracy'], label='Validation Accuracy')\n",
    "plt.legend()\n",
    "plt.show()"
   ]
  },
  {
   "cell_type": "code",
   "execution_count": null,
   "id": "1eb1f4ab",
   "metadata": {},
   "outputs": [],
   "source": []
  }
 ],
 "metadata": {
  "kernelspec": {
   "display_name": "Python 3",
   "language": "python",
   "name": "python3"
  },
  "language_info": {
   "codemirror_mode": {
    "name": "ipython",
    "version": 3
   },
   "file_extension": ".py",
   "mimetype": "text/x-python",
   "name": "python",
   "nbconvert_exporter": "python",
   "pygments_lexer": "ipython3",
   "version": "3.11.4"
  }
 },
 "nbformat": 4,
 "nbformat_minor": 5
}
